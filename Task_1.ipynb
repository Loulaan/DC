{
 "cells": [
  {
   "cell_type": "markdown",
   "metadata": {},
   "source": [
    "# Задание 1\n",
    "\n",
    "[Свертка списка](https://ru.wikipedia.org/wiki/%D0%A1%D0%B2%D1%91%D1%80%D1%82%D0%BA%D0%B0_%D1%81%D0%BF%D0%B8%D1%81%D0%BA%D0%B0) -  это обобщенная операция над списком, c помощью которой можно преобразовать список в единое значение. Например, рассмотрим реализации свертки слева и свертки справа (левоассоциативную свертку и правоассоциативную свертку):"
   ]
  },
  {
   "cell_type": "code",
   "execution_count": 1,
   "metadata": {},
   "outputs": [],
   "source": [
    "ident = lambda x:x\n",
    "def foldl(f, x0, lst):\n",
    "    if not lst:\n",
    "        return x0\n",
    "    return foldl(f, f(x0, lst[0]), lst[1:])\n",
    "\n",
    "\n",
    "def foldr(f, x0, lst):\n",
    "    if not lst:\n",
    "        return x0\n",
    "    return f(lst[0], foldr(f, x0, lst[1:]))"
   ]
  },
  {
   "cell_type": "code",
   "execution_count": 2,
   "metadata": {},
   "outputs": [
    {
     "data": {
      "text/plain": [
       "6"
      ]
     },
     "execution_count": 2,
     "metadata": {},
     "output_type": "execute_result"
    }
   ],
   "source": [
    "#сумма\n",
    "foldl(lambda x, y: x + y, 0, [1, 2, 3])"
   ]
  },
  {
   "cell_type": "code",
   "execution_count": 3,
   "metadata": {},
   "outputs": [
    {
     "data": {
      "text/plain": [
       "'123'"
      ]
     },
     "execution_count": 3,
     "metadata": {},
     "output_type": "execute_result"
    }
   ],
   "source": [
    "#конкатенация\n",
    "foldl(lambda x, y: '{}{}'.format(x, y), '', [1, 2, 3])"
   ]
  },
  {
   "cell_type": "code",
   "execution_count": 4,
   "metadata": {},
   "outputs": [
    {
     "data": {
      "text/plain": [
       "(0.16666666666666666, 1.5)"
      ]
     },
     "execution_count": 4,
     "metadata": {},
     "output_type": "execute_result"
    }
   ],
   "source": [
    "f = lambda x, y: x / y\n",
    "foldl(f, 1, [1, 2, 3]), \\\n",
    "foldr(f, 1, [1, 2, 3])"
   ]
  },
  {
   "cell_type": "code",
   "execution_count": 5,
   "metadata": {},
   "outputs": [],
   "source": [
    "b = lambda x: x\n",
    "def foldl2(f, x0, lst):\n",
    "    def foo(lst, acc):\n",
    "        def fNew(n):\n",
    "            return acc(f(n, lst))\n",
    "        return fNew\n",
    "    return foldr(foo, b, lst)(x0)"
   ]
  },
  {
   "cell_type": "code",
   "execution_count": 18,
   "metadata": {},
   "outputs": [],
   "source": [
    "b = lambda x: x\n",
    "def foldr2(f, x0, lst):\n",
    "    def foo(acc, lst):\n",
    "        def fNew(n):\n",
    "            return acc(f(lst, n))\n",
    "        return fNew\n",
    "    return foldl(foo, b, lst)(x0)"
   ]
  },
  {
   "cell_type": "code",
   "execution_count": 17,
   "metadata": {},
   "outputs": [
    {
     "data": {
      "text/plain": [
       "(0.16666666666666666, 1.5)"
      ]
     },
     "execution_count": 17,
     "metadata": {},
     "output_type": "execute_result"
    }
   ],
   "source": [
    "f = lambda x, y: x / y\n",
    "foldl(f, 1, [1, 2, 3]), \\\n",
    "foldr(f, 1, [1, 2, 3])"
   ]
  },
  {
   "cell_type": "code",
   "execution_count": 14,
   "metadata": {},
   "outputs": [
    {
     "data": {
      "text/plain": [
       "(0.16666666666666666, 1.5)"
      ]
     },
     "execution_count": 14,
     "metadata": {},
     "output_type": "execute_result"
    }
   ],
   "source": [
    "f = lambda x, y: x / y\n",
    "foldl2(f, 1, [1, 2, 3]), \\\n",
    "foldr2(f, 1, [1, 2, 3])"
   ]
  },
  {
   "cell_type": "markdown",
   "metadata": {},
   "source": [
    "Задача: реализовать foldl через foldr и наоборот. Вместо многоточий нужно вставить выражения, которые бы привели к нужному результату."
   ]
  },
  {
   "cell_type": "markdown",
   "metadata": {},
   "source": [
    "# Задание 2\n",
    "\n",
    "нужно написать функцию, которая принимает две строки и проверяет, входит ли хотя бы одна перестановка второй строки в первую. Например:\n",
    "\n",
    "> a = 'abcrotm'\n",
    "> \n",
    "> b = 'tro'\n",
    "\n",
    "функция def check_inv(a, b) вернет True, так как 'rot' содержится в 'abcrotm'. Нужно подумать как можно более оптимальный алгоритм и оценить его сложность. "
   ]
  },
  {
   "cell_type": "code",
   "execution_count": 112,
   "metadata": {},
   "outputs": [],
   "source": [
    "from collections import Counter\n",
    "\n",
    "def check_inv(a, b):\n",
    "    if (len(a) >= len(b)):\n",
    "        bCounted = Counter(b)\n",
    "        for i in range(len(a)-len(b)+1):\n",
    "            if Counter(a[i:i+len(b)]) == bCounted:\n",
    "                return True\n",
    "    return False"
   ]
  },
  {
   "cell_type": "code",
   "execution_count": 113,
   "metadata": {},
   "outputs": [
    {
     "data": {
      "text/plain": [
       "False"
      ]
     },
     "execution_count": 113,
     "metadata": {},
     "output_type": "execute_result"
    }
   ],
   "source": [
    "check_inv('acsa', 'z')"
   ]
  },
  {
   "cell_type": "code",
   "execution_count": 114,
   "metadata": {},
   "outputs": [
    {
     "data": {
      "text/plain": [
       "True"
      ]
     },
     "execution_count": 114,
     "metadata": {},
     "output_type": "execute_result"
    }
   ],
   "source": [
    "check_inv('abcrotm', 'tro')"
   ]
  },
  {
   "cell_type": "code",
   "execution_count": 115,
   "metadata": {},
   "outputs": [
    {
     "data": {
      "text/plain": [
       "False"
      ]
     },
     "execution_count": 115,
     "metadata": {},
     "output_type": "execute_result"
    }
   ],
   "source": [
    "check_inv('abcrotm', 'abcrotmqwe')"
   ]
  },
  {
   "cell_type": "code",
   "execution_count": 116,
   "metadata": {},
   "outputs": [
    {
     "data": {
      "text/plain": [
       "True"
      ]
     },
     "execution_count": 116,
     "metadata": {},
     "output_type": "execute_result"
    }
   ],
   "source": [
    "check_inv('abcrotm', 'cbaortm')"
   ]
  },
  {
   "cell_type": "code",
   "execution_count": 117,
   "metadata": {},
   "outputs": [
    {
     "data": {
      "text/plain": [
       "False"
      ]
     },
     "execution_count": 117,
     "metadata": {},
     "output_type": "execute_result"
    }
   ],
   "source": [
    "check_inv('abrcotm', 'tro')"
   ]
  },
  {
   "cell_type": "markdown",
   "metadata": {},
   "source": [
    "# Задание 3\n",
    "\n",
    "Реализовать бинарное дерево (класс Tree), в нём методы __repr__, __str__, __iter__ (итерация только по листьям)."
   ]
  },
  {
   "cell_type": "code",
   "execution_count": null,
   "metadata": {},
   "outputs": [],
   "source": [
    "class Tree:\n",
    "    def __init__(self, value=None, left=None, right=None):\n",
    "        self.left = left\n",
    "        self.right = right\n",
    "        self.value = value\n",
    "        self._values = []\n",
    "        \n",
    "    def __iter__(self):\n",
    "        pass\n",
    "    \n",
    "    def __str__(self):\n",
    "        pass\n",
    "    \n",
    "    def __repr__(self):\n",
    "        pass\n",
    "    \n",
    "tree = Tree(0, Tree(1, Tree(3), Tree(4)),                             \n",
    "               Tree(2))\n",
    "\n",
    "list(tree) == [3, 4, 2]"
   ]
  },
  {
   "cell_type": "code",
   "execution_count": 193,
   "metadata": {},
   "outputs": [],
   "source": [
    "class myTree:\n",
    "    def __init__(self, value=None, left=None, right=None):\n",
    "        self.left = left\n",
    "        self.right = right\n",
    "        self.value = value\n",
    "    \n",
    "    def __iter__(self):\n",
    "        if self.left == None and self.right == None:\n",
    "            yield self.value\n",
    "        if self.left != None:\n",
    "            it = iter(self.left)\n",
    "            while True:\n",
    "                try:\n",
    "                    yield next(it)\n",
    "                except StopIteration:\n",
    "                    break\n",
    "        if self.right != None:\n",
    "            it = iter(self.right)\n",
    "            while True:\n",
    "                try:\n",
    "                    yield next(it)\n",
    "                except StopIteration:\n",
    "                    break\n",
    "    \n",
    "    def __str__(self):\n",
    "        return vars(self)\n",
    "    \n",
    "    def __repr__(self):\n",
    "        return f'Tree({self.value}, {repr(self.left)}, {repr(self.right)})'"
   ]
  },
  {
   "cell_type": "code",
   "execution_count": 196,
   "metadata": {},
   "outputs": [
    {
     "name": "stdout",
     "output_type": "stream",
     "text": [
      "list:  [3, 4, 2] \n",
      "\n",
      "__str__:  {'left': Tree(1, Tree(3, None, None), Tree(4, None, None)), 'right': Tree(2, None, None), 'value': 0} \n",
      "\n",
      "__repr__: Tree(0, Tree(1, Tree(3, None, None), Tree(4, None, None)), Tree(2, None, None)) \n",
      "\n"
     ]
    }
   ],
   "source": [
    "tree = myTree(0, myTree(1, myTree(3), myTree(4)), myTree(2))\n",
    "print(\"list: \", list(tree), '\\n')\n",
    "print(\"__str__: \", tree.__str__(), '\\n')\n",
    "print(\"__repr__:\", tree.__repr__(), '\\n')"
   ]
  },
  {
   "cell_type": "markdown",
   "metadata": {},
   "source": [
    "# Задание 4 ----\n",
    "\n",
    "Реализовать простейший калькулятор математических выражений:\n",
    "- только целые числа\n",
    "- **+**, **\\-**, **\\***, **\\**\n",
    "- скобки\n",
    "\n",
    "**Можно использовать регулярные выражения**"
   ]
  },
  {
   "cell_type": "code",
   "execution_count": null,
   "metadata": {},
   "outputs": [],
   "source": [
    "def calc(expr):\n",
    "    pass\n",
    "\n",
    "calc('2 * (15 - 3 * 4) - 2') == 4"
   ]
  },
  {
   "cell_type": "code",
   "execution_count": 34,
   "metadata": {},
   "outputs": [],
   "source": [
    "import re"
   ]
  },
  {
   "cell_type": "code",
   "execution_count": 35,
   "metadata": {},
   "outputs": [],
   "source": [
    "def specialCases(expression):\n",
    "    preparedExpression=''\n",
    "    for i in range(len(expression)):\n",
    "        current = expression[i]\n",
    "        \n",
    "        if(current == '-'):\n",
    "            if(i == 0):\n",
    "                preparedExpression += '0'\n",
    "                \n",
    "            if(expression[i-1] == '('):\n",
    "                preparedExpression += '0'\n",
    "            \n",
    "        preparedExpression+=current\n",
    "        \n",
    "    return preparedExpression"
   ]
  },
  {
   "cell_type": "code",
   "execution_count": 36,
   "metadata": {},
   "outputs": [],
   "source": [
    "def mult(expr):\n",
    "    if '*' in expr:\n",
    "        while True:\n",
    "            pos = expr.find('*')\n",
    "            if pos == -1:\n",
    "                break\n",
    "            a = re.findall(r'[0-9.]+[*]', expr[:pos+1])[0][:-1]\n",
    "            b = re.findall(r'[*][0-9.]+', expr[pos:])[0][1:]\n",
    "            len_a, len_b = len(a), len(b)\n",
    "            c = str(float(a)*float(b))\n",
    "            expr = expr[:pos-len_a] + c + expr[pos+len_b+1:]\n",
    "        return expr\n",
    "    else:\n",
    "        return expr"
   ]
  },
  {
   "cell_type": "code",
   "execution_count": 37,
   "metadata": {},
   "outputs": [],
   "source": [
    "def divis(expr):\n",
    "    if '/' in expr:\n",
    "        while True:\n",
    "            pos = expr.find('/')\n",
    "            if pos == -1:\n",
    "                break\n",
    "            print(expr)\n",
    "            a = re.findall(r'[0-9.]+[/]', expr[:pos+1])[0][:-1]\n",
    "            b = re.findall(r'[/][0-9.]+', expr[pos:])[0][1:]\n",
    "            len_a, len_b = len(a), len(b)\n",
    "            c = str(float(a)/float(b))\n",
    "            expr = expr[:pos-len_a] + c + expr[pos+len_b+1:]\n",
    "        return expr\n",
    "    else:\n",
    "        return expr"
   ]
  },
  {
   "cell_type": "code",
   "execution_count": 38,
   "metadata": {},
   "outputs": [],
   "source": [
    "def summ(expr):\n",
    "    if '+' in expr:\n",
    "        while True:\n",
    "            pos = expr.find('+')\n",
    "            if pos == -1:\n",
    "                break\n",
    "            a = re.findall(r'[0-9.]+[+]', expr[:pos+1])[0][:-1]\n",
    "            b = re.findall(r'[+][0-9.]+', expr[pos:])[0][1:]\n",
    "            len_a, len_b = len(a), len(b)\n",
    "            c = str(float(a)+float(b))\n",
    "            expr = expr[:pos-len_a] + c + expr[pos+len_b+1:]\n",
    "        return expr\n",
    "    else:\n",
    "        return expr"
   ]
  },
  {
   "cell_type": "code",
   "execution_count": 39,
   "metadata": {},
   "outputs": [],
   "source": [
    "def differ(expr):\n",
    "    if '-' in expr:\n",
    "        while True:\n",
    "            pos = expr.find('-')\n",
    "            if pos == -1:\n",
    "                break\n",
    "            a = re.findall(r'[0-9.]+[-]', expr[:pos+1])[0][:-1]\n",
    "            b = re.findall(r'[-][0-9.]+', expr[pos:])[0][1:]\n",
    "            len_a, len_b = len(a), len(b)\n",
    "            c = str(float(a)-float(b))\n",
    "            expr = expr[:pos-len_a] + c + expr[pos+len_b+1:]\n",
    "        return expr\n",
    "    else:\n",
    "        return expr"
   ]
  },
  {
   "cell_type": "code",
   "execution_count": 40,
   "metadata": {},
   "outputs": [],
   "source": [
    "def calc(expr):\n",
    "    expr = specialCases(expr)\n",
    "    expr = '(' + re.sub(r'[^-0-9.()*+/]', '', expr) + ')'\n",
    "    while True:\n",
    "        a = re.findall(r'\\([-0-9.+*/]+\\)', expr)\n",
    "        if not a:\n",
    "            break\n",
    "        a = a[0]\n",
    "        temp = re.findall('[\\+\\-\\*\\/]', a)\n",
    "        if ('/' in temp) and ('*' in temp):\n",
    "            if temp.index('/') < temp.index('*'):\n",
    "                res = differ(summ(mult(divis(a))))\n",
    "        else:\n",
    "            res =  differ(summ(divis(mult(a))))\n",
    "        expr = expr.replace(a, res[1:-1])\n",
    "    return expr"
   ]
  },
  {
   "cell_type": "code",
   "execution_count": 50,
   "metadata": {},
   "outputs": [
    {
     "data": {
      "text/plain": [
       "'4.0'"
      ]
     },
     "execution_count": 50,
     "metadata": {},
     "output_type": "execute_result"
    }
   ],
   "source": [
    "calc('2 * (15 - 3 * 4) - 2')"
   ]
  },
  {
   "cell_type": "code",
   "execution_count": 54,
   "metadata": {},
   "outputs": [
    {
     "data": {
      "text/plain": [
       "'4.0'"
      ]
     },
     "execution_count": 54,
     "metadata": {},
     "output_type": "execute_result"
    }
   ],
   "source": [
    "calc('2 * (15 - 3 * 4) - 2')"
   ]
  },
  {
   "cell_type": "code",
   "execution_count": 42,
   "metadata": {},
   "outputs": [
    {
     "data": {
      "text/plain": [
       "('6.0', 6)"
      ]
     },
     "execution_count": 42,
     "metadata": {},
     "output_type": "execute_result"
    }
   ],
   "source": [
    "calc('1 + 2 * 3 - 1'), eval('1 + 2 * 3 - 1')"
   ]
  },
  {
   "cell_type": "code",
   "execution_count": 43,
   "metadata": {},
   "outputs": [
    {
     "data": {
      "text/plain": [
       "('4.0', 4)"
      ]
     },
     "execution_count": 43,
     "metadata": {},
     "output_type": "execute_result"
    }
   ],
   "source": [
    "calc('2 * (15 - 3 * 4) - 2'), eval('2 * (15 - 3 * 4) - 2')"
   ]
  },
  {
   "cell_type": "code",
   "execution_count": 44,
   "metadata": {},
   "outputs": [
    {
     "data": {
      "text/plain": [
       "('22.0', 22)"
      ]
     },
     "execution_count": 44,
     "metadata": {},
     "output_type": "execute_result"
    }
   ],
   "source": [
    "calc('2 * (1 * 3 * 4) - 2'), eval('2 * (1 * 3 * 4) - 2')"
   ]
  },
  {
   "cell_type": "code",
   "execution_count": 55,
   "metadata": {
    "scrolled": true
   },
   "outputs": [
    {
     "data": {
      "text/plain": [
       "('124.0', 124)"
      ]
     },
     "execution_count": 55,
     "metadata": {},
     "output_type": "execute_result"
    }
   ],
   "source": [
    "calc('2 * ((15 * 4 + 2) + 1) - 2'), eval('2 * ((15 * 4 + 2) + 1) - 2')"
   ]
  },
  {
   "cell_type": "code",
   "execution_count": null,
   "metadata": {},
   "outputs": [],
   "source": []
  }
 ],
 "metadata": {
  "kernelspec": {
   "display_name": "Python 3",
   "language": "python",
   "name": "python3"
  },
  "language_info": {
   "codemirror_mode": {
    "name": "ipython",
    "version": 3
   },
   "file_extension": ".py",
   "mimetype": "text/x-python",
   "name": "python",
   "nbconvert_exporter": "python",
   "pygments_lexer": "ipython3",
   "version": "3.7.4"
  }
 },
 "nbformat": 4,
 "nbformat_minor": 4
}
