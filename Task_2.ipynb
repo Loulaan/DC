{
 "cells": [
  {
   "cell_type": "code",
   "execution_count": 3,
   "metadata": {},
   "outputs": [],
   "source": [
    "import numpy as np\n",
    "import scipy as sp\n",
    "import matplotlib.pyplot as plt\n",
    "import seaborn as sns\n",
    "\n",
    "%matplotlib inline"
   ]
  },
  {
   "cell_type": "markdown",
   "metadata": {},
   "source": [
    "# 1. Работа с массивами NumPy"
   ]
  },
  {
   "cell_type": "markdown",
   "metadata": {},
   "source": [
    "**N. Все упражнения ниже нужно делать без использования циклов Python**\n",
    "\n",
    "**1.** Cоздать вектор\n",
    "\n",
    "$$(2, \\frac{2^2}{2}, \\ldots, \\frac{2^{20}}{20})$$\n",
    "\n",
    "Можно использовать функции [np.arange()](http://docs.scipy.org/doc/numpy/reference/generated/numpy.arange.html), [np.ones()](http://docs.scipy.org/doc/numpy/reference/generated/numpy.ones.html)"
   ]
  },
  {
   "cell_type": "code",
   "execution_count": 183,
   "metadata": {},
   "outputs": [
    {
     "data": {
      "text/plain": [
       "array([2.00000000e+00, 2.00000000e+00, 2.66666667e+00, 4.00000000e+00,\n",
       "       6.40000000e+00, 1.06666667e+01, 1.82857143e+01, 3.20000000e+01,\n",
       "       5.68888889e+01, 1.02400000e+02, 1.86181818e+02, 3.41333333e+02,\n",
       "       6.30153846e+02, 1.17028571e+03, 2.18453333e+03, 4.09600000e+03,\n",
       "       7.71011765e+03, 1.45635556e+04, 2.75941053e+04, 5.24288000e+04])"
      ]
     },
     "execution_count": 183,
     "metadata": {},
     "output_type": "execute_result"
    }
   ],
   "source": [
    "2**np.arange(1, 21) / np.arange(1, 21)"
   ]
  },
  {
   "cell_type": "markdown",
   "metadata": {},
   "source": [
    "**2.** Посчитать:\n",
    "\n",
    "$$\\sum\\limits_{i=0}^{5}{0.1^{3i}0.2^{4i}}$$\n"
   ]
  },
  {
   "cell_type": "code",
   "execution_count": 184,
   "metadata": {},
   "outputs": [
    {
     "data": {
      "text/plain": [
       "1.00000160000256"
      ]
     },
     "execution_count": 184,
     "metadata": {},
     "output_type": "execute_result"
    }
   ],
   "source": [
    "np.sum(np.ones(6)/10 ** (np.arange(6) * 3) * np.ones(6)/5 ** (np.arange(6) * 4))"
   ]
  },
  {
   "cell_type": "markdown",
   "metadata": {},
   "source": [
    "**3.** Создать нулевую матрицe $8 \\times 8$, и заполнить её единицами в шахматном порядке."
   ]
  },
  {
   "cell_type": "code",
   "execution_count": 185,
   "metadata": {},
   "outputs": [
    {
     "data": {
      "text/plain": [
       "array([[1, 0, 1, 0, 1, 0, 1, 0],\n",
       "       [0, 1, 0, 1, 0, 1, 0, 1],\n",
       "       [1, 0, 1, 0, 1, 0, 1, 0],\n",
       "       [0, 1, 0, 1, 0, 1, 0, 1],\n",
       "       [1, 0, 1, 0, 1, 0, 1, 0],\n",
       "       [0, 1, 0, 1, 0, 1, 0, 1],\n",
       "       [1, 0, 1, 0, 1, 0, 1, 0],\n",
       "       [0, 1, 0, 1, 0, 1, 0, 1]])"
      ]
     },
     "execution_count": 185,
     "metadata": {},
     "output_type": "execute_result"
    }
   ],
   "source": [
    "(1 + np.arange(8) + np.arange(8).reshape(8, 1))%2"
   ]
  },
  {
   "cell_type": "markdown",
   "metadata": {},
   "source": [
    "**4.** Есть 5 точек в декартовой системе координат (в виде матрицы $X$ размерностью $5 \\times 2$), сконвертируйте эти точки в полярную систему координат."
   ]
  },
  {
   "cell_type": "code",
   "execution_count": 186,
   "metadata": {},
   "outputs": [
    {
     "data": {
      "text/plain": [
       "array([[0.80326252, 1.37172701],\n",
       "       [1.15471767, 0.53061302],\n",
       "       [0.72409257, 0.55592314],\n",
       "       [1.01676463, 0.61914919],\n",
       "       [0.42687496, 1.51141709]])"
      ]
     },
     "execution_count": 186,
     "metadata": {},
     "output_type": "execute_result"
    }
   ],
   "source": [
    "X = np.random.random((5, 2))\n",
    "X\n",
    "np.array((np.sqrt(np.sum(X**2, axis=1)), np.arccos(X[:, 0] / np.sqrt(np.sum(X**2, axis=1)))), dtype=np.float).T"
   ]
  },
  {
   "cell_type": "markdown",
   "metadata": {},
   "source": [
    "**5.** Найдите индексы максимального элемента в случайной матрице $10 \\times 10$.\n",
    "\n",
    "Cм. [np.argmax()](http://docs.scipy.org/doc/numpy/reference/generated/numpy.argmax.html)."
   ]
  },
  {
   "cell_type": "code",
   "execution_count": 187,
   "metadata": {},
   "outputs": [
    {
     "data": {
      "text/plain": [
       "array([[0.70747645, 0.72858461, 0.18523571, 0.8236423 , 0.46466689,\n",
       "        0.41977512, 0.02050808, 0.02017988, 0.95111546, 0.47897963],\n",
       "       [0.25319713, 0.25727348, 0.23107215, 0.67651228, 0.39088158,\n",
       "        0.52242691, 0.50789856, 0.98306937, 0.490239  , 0.20485016],\n",
       "       [0.77979159, 0.65945136, 0.22360155, 0.75432185, 0.22418392,\n",
       "        0.83142535, 0.79459335, 0.0254855 , 0.40426165, 0.64514244],\n",
       "       [0.21441004, 0.23662843, 0.40755128, 0.40178041, 0.73303589,\n",
       "        0.83274675, 0.54062885, 0.39216638, 0.54964718, 0.42218598],\n",
       "       [0.073385  , 0.95804386, 0.93235963, 0.42101395, 0.33910077,\n",
       "        0.3034472 , 0.80054628, 0.23675969, 0.18001533, 0.30737349],\n",
       "       [0.12890094, 0.26277177, 0.46964405, 0.37053615, 0.8089143 ,\n",
       "        0.54611569, 0.88006679, 0.46753988, 0.27404632, 0.52559055],\n",
       "       [0.10159359, 0.64671015, 0.1196782 , 0.9638094 , 0.90790211,\n",
       "        0.58827942, 0.2102562 , 0.8847261 , 0.74598833, 0.36931082],\n",
       "       [0.83064301, 0.51538529, 0.38763486, 0.46571035, 0.04163477,\n",
       "        0.68846232, 0.2943785 , 0.0304039 , 0.62309043, 0.8598497 ],\n",
       "       [0.47666003, 0.58714565, 0.10894906, 0.78253744, 0.33331708,\n",
       "        0.08845719, 0.52054694, 0.59795979, 0.60887341, 0.95145142],\n",
       "       [0.09187671, 0.10829852, 0.44255673, 0.76956879, 0.58040714,\n",
       "        0.32336958, 0.54488583, 0.28601852, 0.70915953, 0.7461009 ]])"
      ]
     },
     "execution_count": 187,
     "metadata": {},
     "output_type": "execute_result"
    }
   ],
   "source": [
    "X = np.random.random((10, 10))\n",
    "X\n",
    "## your code"
   ]
  },
  {
   "cell_type": "code",
   "execution_count": 188,
   "metadata": {},
   "outputs": [
    {
     "data": {
      "text/plain": [
       "(1, 7)"
      ]
     },
     "execution_count": 188,
     "metadata": {},
     "output_type": "execute_result"
    }
   ],
   "source": [
    "np.argmax(X)//10, np.argmax(X)%10"
   ]
  },
  {
   "cell_type": "markdown",
   "metadata": {},
   "source": [
    "**6.** Есть 10 точек ($X$) и ещё одна ($y$). Найти в $X$ ближайшую к $y$ точку."
   ]
  },
  {
   "cell_type": "code",
   "execution_count": 189,
   "metadata": {},
   "outputs": [
    {
     "data": {
      "text/plain": [
       "array([0.62287517, 0.04849169])"
      ]
     },
     "execution_count": 189,
     "metadata": {},
     "output_type": "execute_result"
    }
   ],
   "source": [
    "X = np.random.random((10, 2))\n",
    "y = np.random.random((1, 2))\n",
    "\n",
    "X[np.sqrt(np.sum((X-y)**2, axis=1)).argmin()]"
   ]
  },
  {
   "cell_type": "markdown",
   "metadata": {},
   "source": [
    "**7.** Дана функция:\n",
    "\n",
    "$$\n",
    " \\begin{cases}\n",
    "    x^2 + 2x + 6, & x < 0  \\\\\n",
    "    x + 6, & 0 \\le x \\le 2 \\\\\n",
    "    x^2 + 4x - 4, & x \\ge 2\n",
    " \\end{cases}\n",
    "$$\n",
    "\n",
    "Постройте массив из её значений на  $-3 \\le x \\le 3$."
   ]
  },
  {
   "cell_type": "code",
   "execution_count": 190,
   "metadata": {},
   "outputs": [
    {
     "data": {
      "text/plain": [
       "array([ 9.  ,  8.61,  8.24,  7.89,  7.56,  7.25,  6.96,  6.69,  6.44,\n",
       "        6.21,  6.  ,  5.81,  5.64,  5.49,  5.36,  5.25,  5.16,  5.09,\n",
       "        5.04,  5.01,  5.  ,  5.01,  5.04,  5.09,  5.16,  5.25,  5.36,\n",
       "        5.49,  5.64,  5.81,  6.  ,  6.1 ,  6.2 ,  6.3 ,  6.4 ,  6.5 ,\n",
       "        6.6 ,  6.7 ,  6.8 ,  6.9 ,  7.  ,  7.1 ,  7.2 ,  7.3 ,  7.4 ,\n",
       "        7.5 ,  7.6 ,  7.7 ,  7.8 ,  7.9 ,  8.  ,  8.81,  9.64, 10.49,\n",
       "       11.36, 12.25, 13.16, 14.09, 15.04, 16.01, 17.  ])"
      ]
     },
     "execution_count": 190,
     "metadata": {},
     "output_type": "execute_result"
    }
   ],
   "source": [
    "## your code\n",
    "## your code\n",
    "f = lambda x: [ x**2 + 2*x + 6,\n",
    "                x + 6,\n",
    "                x**2 + 4*x - 4 \n",
    "              ]\n",
    "np.sum(np.array(\n",
    "    [np.arange(-3, 3.1, 0.1)<0, (np.arange(-3, 3.1, 0.1)>=0)*(np.arange(-3, 3.1, 0.1)<=2), \n",
    "     np.arange(-3, 3.1, 0.1)>2],dtype=int\n",
    "    ) *  np.array(f(np.arange(-3, 3.1, 0.1))), axis=0)"
   ]
  },
  {
   "cell_type": "markdown",
   "metadata": {},
   "source": [
    "**8.** Из каждого элемента матрицы вычесть среднее арифметическое от всех элементов в соответствующей строке (после чего среднее значение каждой строки должно равняться нулю).\n",
    "\n",
    "Cм. [np.mean()](http://docs.scipy.org/doc/numpy/reference/generated/numpy.mean.html)."
   ]
  },
  {
   "cell_type": "code",
   "execution_count": 191,
   "metadata": {},
   "outputs": [
    {
     "data": {
      "text/plain": [
       "array([[ 0.3706605 , -0.37956927,  0.33910093,  0.14154677, -0.42563248,\n",
       "        -0.03800942, -0.38181513,  0.41306435,  0.07735345, -0.11669971],\n",
       "       [ 0.00722344, -0.37362849, -0.12265931, -0.38845552, -0.1161233 ,\n",
       "        -0.07764718,  0.34213355, -0.153714  ,  0.44488493,  0.43798588],\n",
       "       [ 0.20790529, -0.23393569,  0.33561571, -0.13626764,  0.04251749,\n",
       "        -0.16710664,  0.03500549, -0.48329753,  0.02023181,  0.37933172],\n",
       "       [-0.46465536, -0.24148949,  0.01193622,  0.15614661,  0.51591795,\n",
       "        -0.12019668, -0.16296555,  0.13441296, -0.3400133 ,  0.51090663],\n",
       "       [-0.08294599,  0.3312297 ,  0.36417389, -0.28602912,  0.14329507,\n",
       "         0.52243385, -0.19461726, -0.36097173, -0.10743695, -0.32913147],\n",
       "       [ 0.10340844,  0.10270644, -0.27932094, -0.1271594 ,  0.15188908,\n",
       "         0.15256087,  0.02472444, -0.29599565, -0.31797356,  0.48516027],\n",
       "       [-0.15521222,  0.21858617,  0.03839668,  0.62259429, -0.10778319,\n",
       "        -0.3068644 ,  0.16358662, -0.31219045, -0.27288204,  0.11176853],\n",
       "       [-0.2489377 ,  0.14122583,  0.00853325, -0.15617117, -0.35549727,\n",
       "        -0.28026217,  0.37762633, -0.30169379,  0.25416873,  0.56100795],\n",
       "       [ 0.05798439,  0.35913796, -0.20731429, -0.1191163 , -0.14635343,\n",
       "        -0.09281489,  0.20408268,  0.06648462, -0.36469346,  0.24260273],\n",
       "       [-0.44795398,  0.10103924,  0.28996566, -0.32068291,  0.09566565,\n",
       "         0.07810312, -0.08356328, -0.26437588,  0.08969724,  0.46210515]])"
      ]
     },
     "execution_count": 191,
     "metadata": {},
     "output_type": "execute_result"
    }
   ],
   "source": [
    "X = np.random.random((10, 10))\n",
    "X - np.mean(X,axis = 1).reshape((10,1))"
   ]
  },
  {
   "cell_type": "code",
   "execution_count": 192,
   "metadata": {},
   "outputs": [
    {
     "data": {
      "text/plain": [
       "array([-5.55111512e-16,  0.00000000e+00, -3.33066907e-16,  6.66133815e-16,\n",
       "       -4.44089210e-16, -3.33066907e-16,  2.22044605e-16, -1.11022302e-16,\n",
       "        4.44089210e-16, -5.55111512e-16])"
      ]
     },
     "execution_count": 192,
     "metadata": {},
     "output_type": "execute_result"
    }
   ],
   "source": [
    "# Проверка\n",
    "np.sum(X - np.mean(X,axis = 1).reshape((10,1)), axis=-1)"
   ]
  },
  {
   "cell_type": "markdown",
   "metadata": {},
   "source": [
    "**9.** Есть массив из 1000 чисел, полученных из генератора случайных чисел, имеющий нормальное распределение. Посчитайте выборочное среднее и выборочную дисперсию. "
   ]
  },
  {
   "cell_type": "code",
   "execution_count": 193,
   "metadata": {},
   "outputs": [
    {
     "data": {
      "text/plain": [
       "(5.074171231424645, 4.337322958847219)"
      ]
     },
     "execution_count": 193,
     "metadata": {},
     "output_type": "execute_result"
    }
   ],
   "source": [
    "X = np.random.normal(loc=5, scale=2., size=1000)\n",
    "m = np.sum(X)/1000\n",
    "D = np.sum((X - m)**2)/1000\n",
    "m, D"
   ]
  },
  {
   "cell_type": "markdown",
   "metadata": {},
   "source": [
    "**10.** Создать матрицу:\n",
    "\n",
    "$$\n",
    "\\begin{pmatrix}\n",
    "0 & 1 & 2 & 3 & 4 \\\\\n",
    "1 & 2 & 3 & 4 & 0 \\\\\n",
    "2 & 3 & 4 & 0 & 1 \\\\\n",
    "3 & 4 & 0 & 1 & 2 \\\\\n",
    "4 & 0 & 1 & 2 & 3\n",
    "\\end{pmatrix}\n",
    "$$"
   ]
  },
  {
   "cell_type": "code",
   "execution_count": 194,
   "metadata": {},
   "outputs": [
    {
     "data": {
      "text/plain": [
       "array([[0, 1, 2, 3, 4],\n",
       "       [1, 2, 3, 4, 0],\n",
       "       [2, 3, 4, 0, 1],\n",
       "       [3, 4, 0, 1, 2],\n",
       "       [4, 0, 1, 2, 3]])"
      ]
     },
     "execution_count": 194,
     "metadata": {},
     "output_type": "execute_result"
    }
   ],
   "source": [
    "(np.arange(5)+np.arange(5).reshape(5,1))%5"
   ]
  }
 ],
 "metadata": {
  "kernelspec": {
   "display_name": "Python 3",
   "language": "python",
   "name": "python3"
  },
  "language_info": {
   "codemirror_mode": {
    "name": "ipython",
    "version": 3
   },
   "file_extension": ".py",
   "mimetype": "text/x-python",
   "name": "python",
   "nbconvert_exporter": "python",
   "pygments_lexer": "ipython3",
   "version": "3.6.8"
  }
 },
 "nbformat": 4,
 "nbformat_minor": 4
}
