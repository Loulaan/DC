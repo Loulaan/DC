{
 "cells": [
  {
   "cell_type": "markdown",
   "metadata": {},
   "source": [
    "6. Реализуйте классификацию документов с помощью стандартных средств из библиотеки `scikit-learn` и простого word embedding'а. Проилюстрируйте пару примеров классификации с помощью [`eli5`](https://github.com/TeamHG-Memex/eli5) "
   ]
  },
  {
   "cell_type": "code",
   "execution_count": 385,
   "metadata": {},
   "outputs": [],
   "source": [
    "import numpy as np\n",
    "import pandas as pd\n",
    "import sklearn\n",
    "from gensim.models import Word2Vec\n",
    "import gensim\n",
    "import smart_open as sm\n",
    "from tqdm import tqdm_notebook\n",
    "import re\n",
    "from nltk.tokenize import word_tokenize\n",
    "from nltk.corpus import stopwords\n",
    "from nltk.stem import PorterStemmer, WordNetLemmatizer\n",
    "from gensim.models import Word2Vec\n",
    "from collections import OrderedDict\n",
    "import pymorphy2\n",
    "morph = pymorphy2.MorphAnalyzer()"
   ]
  },
  {
   "cell_type": "code",
   "execution_count": 386,
   "metadata": {},
   "outputs": [],
   "source": [
    "def read_data(path=\"data/news.txt.gz\"):\n",
    "    with sm.open(path, encoding='utf-8') as f:\n",
    "        for line in f:\n",
    "            cat, headline, text = line.strip().split('\\t')\n",
    "            yield cat, headline, text\n",
    "\n",
    "def preprocessMessages(text):\n",
    "    text = text.lower()\n",
    "    words = word_tokenize(text)\n",
    "    stop_words = stopwords.words('russian')\n",
    "    words = [w for w in words if len(w) > 2]\n",
    "    words = [word for word in words if word not in stop_words]\n",
    "    words = [morph.parse(word)[0].normal_form for word in words]\n",
    "    return words\n",
    "\n",
    "\n",
    "def prepare_files(data):\n",
    "    texts = []\n",
    "    labels = []\n",
    "    for cat, headline, text in tqdm_notebook(data):\n",
    "        texts.append(preprocessMessages(text))\n",
    "        labels.append(cat)\n",
    "    return np.array(texts), labels"
   ]
  },
  {
   "cell_type": "code",
   "execution_count": 490,
   "metadata": {},
   "outputs": [],
   "source": [
    "# texts, labels = prepare_files(read_data())"
   ]
  },
  {
   "cell_type": "code",
   "execution_count": 3,
   "metadata": {},
   "outputs": [],
   "source": [
    "def convertLabelsToDigits(labels):\n",
    "    uniqueLabels = list(OrderedDict.fromkeys(labels))\n",
    "    dictionary = dict(zip(uniqueLabels, np.arange(10)))\n",
    "    mappedLabels = []\n",
    "    for label in labels:\n",
    "        mappedLabels.append(dictionary[label])\n",
    "    return mappedLabels"
   ]
  },
  {
   "cell_type": "code",
   "execution_count": 317,
   "metadata": {},
   "outputs": [],
   "source": [
    "texts = np.load(\"data/texts.npy\", allow_pickle=True)\n",
    "digitLabels = np.load(\"data/digitLabels.npy\", allow_pickle=True)\n",
    "labels = np.load(\"data/labels.npy\", allow_pickle=True)"
   ]
  },
  {
   "cell_type": "code",
   "execution_count": 6,
   "metadata": {},
   "outputs": [],
   "source": [
    "uniqueLabels = list(OrderedDict.fromkeys(labels))\n",
    "dictionaryLabelsDigits = dict(zip(uniqueLabels, np.arange(10)))\n",
    "dictionaryDigitsLabels = dict(zip(np.arange(10), uniqueLabels))"
   ]
  },
  {
   "cell_type": "code",
   "execution_count": 7,
   "metadata": {},
   "outputs": [],
   "source": [
    "digitLabels = convertLabelsToDigits(labels)"
   ]
  },
  {
   "cell_type": "code",
   "execution_count": 18,
   "metadata": {},
   "outputs": [],
   "source": [
    "# np.save(\"data/texts\", texts)\n",
    "# np.save(\"data/digitLabels\", digitLabels)\n",
    "# np.save(\"data/labels\", labels)"
   ]
  },
  {
   "cell_type": "code",
   "execution_count": 518,
   "metadata": {},
   "outputs": [],
   "source": [
    "def createW2V(texts):\n",
    "    size = 500\n",
    "    w2v = Word2Vec(texts, size=size)\n",
    "    w2v.wv.save_word2vec_format(f'data/w2v_vectors-{size}.bin')\n",
    "    return w2v"
   ]
  },
  {
   "cell_type": "code",
   "execution_count": null,
   "metadata": {},
   "outputs": [],
   "source": [
    "w2v = gensim.models.KeyedVectors.load_word2vec_format(\"data/w2v_vectors-500.bin\")\n",
    "# w2v = createW2V(texts)"
   ]
  },
  {
   "cell_type": "code",
   "execution_count": 9,
   "metadata": {},
   "outputs": [],
   "source": [
    "def convertTextToDigit(text, w2v):\n",
    "    counter = 0\n",
    "    summ = 0\n",
    "    for word in text:\n",
    "        try:\n",
    "            summ += sum(w2v.wv[word])\n",
    "        except:\n",
    "            pass\n",
    "        counter += 500\n",
    "    return summ/counter"
   ]
  },
  {
   "cell_type": "code",
   "execution_count": 10,
   "metadata": {},
   "outputs": [
    {
     "name": "stderr",
     "output_type": "stream",
     "text": [
      "D:\\Anaconda\\lib\\site-packages\\ipykernel_launcher.py:6: DeprecationWarning: Call to deprecated `wv` (Attribute will be removed in 4.0.0, use self instead).\n",
      "  \n"
     ]
    }
   ],
   "source": [
    "digitTexts = [convertTextToDigit(text, w2v) for text in texts]\n",
    "digitTexts = np.array(digitTexts)"
   ]
  },
  {
   "cell_type": "markdown",
   "metadata": {},
   "source": [
    "### Scikit-learn models"
   ]
  },
  {
   "cell_type": "code",
   "execution_count": 461,
   "metadata": {},
   "outputs": [],
   "source": [
    "from sklearn.feature_extraction.text import TfidfTransformer, TfidfVectorizer, CountVectorizer\n",
    "from sklearn.pipeline import Pipeline\n",
    "from sklearn.model_selection import train_test_split\n",
    "from sklearn.tree import DecisionTreeClassifier\n",
    "from sklearn.ensemble import RandomForestClassifier\n",
    "from sklearn.metrics import accuracy_score\n",
    "from sklearn.naive_bayes import MultinomialNB"
   ]
  },
  {
   "cell_type": "code",
   "execution_count": 13,
   "metadata": {},
   "outputs": [],
   "source": [
    "xTrain, xTest, yTrain, yTest = train_test_split(digitTexts, digitLabels, test_size=0.20, random_state=42)"
   ]
  },
  {
   "cell_type": "code",
   "execution_count": 14,
   "metadata": {},
   "outputs": [
    {
     "data": {
      "text/plain": [
       "0.1955"
      ]
     },
     "execution_count": 14,
     "metadata": {},
     "output_type": "execute_result"
    }
   ],
   "source": [
    "model = DecisionTreeClassifier()\n",
    "model.fit(xTrain.reshape(-1, 1), yTrain)\n",
    "accuracy_score(yTest, model.predict(xTest.reshape(-1, 1)))"
   ]
  },
  {
   "cell_type": "code",
   "execution_count": 15,
   "metadata": {},
   "outputs": [
    {
     "data": {
      "text/plain": [
       "0.2225"
      ]
     },
     "execution_count": 15,
     "metadata": {},
     "output_type": "execute_result"
    }
   ],
   "source": [
    "rf = RandomForestClassifier(n_estimators=400, n_jobs=-1, max_depth=15, )\n",
    "rf.fit(xTrain.reshape(-1, 1), yTrain)\n",
    "accuracy_score(yTest, rf.predict(xTest.reshape(-1, 1)))"
   ]
  },
  {
   "cell_type": "code",
   "execution_count": 16,
   "metadata": {},
   "outputs": [],
   "source": [
    "def rfInfer(text):\n",
    "    text = np.array(convertTextToDigit(text, w2v))\n",
    "    print(dictionaryDigitsLabels[rf.predict(text.reshape(-1, 1))[0]])"
   ]
  },
  {
   "cell_type": "code",
   "execution_count": 488,
   "metadata": {},
   "outputs": [
    {
     "name": "stderr",
     "output_type": "stream",
     "text": [
      "D:\\Anaconda\\lib\\site-packages\\ipykernel_launcher.py:6: DeprecationWarning: Call to deprecated `wv` (Attribute will be removed in 4.0.0, use self instead).\n",
      "  \n"
     ]
    },
    {
     "name": "stdout",
     "output_type": "stream",
     "text": [
      "culture\n"
     ]
    }
   ],
   "source": [
    "rfInfer(\"Шведский хоккеист Матс Сундин назначен советником главного тренера сборной Швеции Пера Мортса.\\\n",
    "         Об этом сообщает официальный сайт Федерации хоккея Швеции.Сундин будет консультировать Мортса на протяжении сезона-2012/13 по спортивным вопросам,\\\n",
    "         а также будет курировать младшие сборные страны. Предполагается, что Сундин также войдет в состав тренерского штаба сборной Швеции на чемпионате мира 2013 года\")"
   ]
  },
  {
   "cell_type": "markdown",
   "metadata": {},
   "source": [
    "##### TF-IDF"
   ]
  },
  {
   "cell_type": "code",
   "execution_count": 507,
   "metadata": {},
   "outputs": [],
   "source": [
    "def read_data(path=\"data/news.txt.gz\"):\n",
    "    textRaw = []\n",
    "    with sm.open(path, encoding='utf-8') as f:\n",
    "        for line in f:\n",
    "            cat, headline, text = line.strip().split('\\t')\n",
    "            textRaw.append(preprocessMessages(text))\n",
    "    return textRaw"
   ]
  },
  {
   "cell_type": "code",
   "execution_count": 508,
   "metadata": {},
   "outputs": [],
   "source": [
    "textRaw = read_data()"
   ]
  },
  {
   "cell_type": "code",
   "execution_count": 509,
   "metadata": {},
   "outputs": [],
   "source": [
    "def padData(tmp):\n",
    "    counter = 0\n",
    "    c = 0\n",
    "    for text in tmp:\n",
    "        c += len(text)\n",
    "        counter += 1 \n",
    "    avg = int(c/counter)\n",
    "    for i in range(10000):\n",
    "        if len(tmp[i]) < 140:\n",
    "            differ = avg - len(tmp[i])\n",
    "            tmp[i] = np.concatenate((tmp[i], np.zeros((differ))))\n",
    "        else:\n",
    "            tmp[i] = tmp[i][:avg]\n",
    "    return tmp"
   ]
  },
  {
   "cell_type": "code",
   "execution_count": 510,
   "metadata": {},
   "outputs": [
    {
     "name": "stdout",
     "output_type": "stream",
     "text": [
      "140\n"
     ]
    }
   ],
   "source": [
    "tmp = padData(textRaw)"
   ]
  },
  {
   "cell_type": "code",
   "execution_count": 511,
   "metadata": {},
   "outputs": [],
   "source": [
    "def saveCSV(labels, tmp):\n",
    "    tmp = [' '.join(t) for t in tmp]\n",
    "    data = pd.DataFrame(columns=['cls', 'data'])\n",
    "    data[\"cls\"] = labels\n",
    "    data[\"data\"] = tmp\n",
    "    data.to_csv(\"data/data.csv\")\n",
    "    return data"
   ]
  },
  {
   "cell_type": "code",
   "execution_count": 512,
   "metadata": {},
   "outputs": [
    {
     "data": {
      "text/html": [
       "<div>\n",
       "<style scoped>\n",
       "    .dataframe tbody tr th:only-of-type {\n",
       "        vertical-align: middle;\n",
       "    }\n",
       "\n",
       "    .dataframe tbody tr th {\n",
       "        vertical-align: top;\n",
       "    }\n",
       "\n",
       "    .dataframe thead th {\n",
       "        text-align: right;\n",
       "    }\n",
       "</style>\n",
       "<table border=\"1\" class=\"dataframe\">\n",
       "  <thead>\n",
       "    <tr style=\"text-align: right;\">\n",
       "      <th></th>\n",
       "      <th>cls</th>\n",
       "      <th>data</th>\n",
       "    </tr>\n",
       "  </thead>\n",
       "  <tbody>\n",
       "    <tr>\n",
       "      <td>0</td>\n",
       "      <td>0</td>\n",
       "      <td>парусный гонка giraglia rolex cup пройти среди...</td>\n",
       "    </tr>\n",
       "    <tr>\n",
       "      <td>1</td>\n",
       "      <td>1</td>\n",
       "      <td>шведский хоккеист матс сундина назначить совет...</td>\n",
       "    </tr>\n",
       "    <tr>\n",
       "      <td>2</td>\n",
       "      <td>2</td>\n",
       "      <td>гран-при конкурс брэнд года/effie получить гор...</td>\n",
       "    </tr>\n",
       "    <tr>\n",
       "      <td>3</td>\n",
       "      <td>3</td>\n",
       "      <td>цена американский нефть wti лондонский биржа i...</td>\n",
       "    </tr>\n",
       "    <tr>\n",
       "      <td>4</td>\n",
       "      <td>3</td>\n",
       "      <td>сбербанк выставить продажа долг 21,4 тысяча до...</td>\n",
       "    </tr>\n",
       "  </tbody>\n",
       "</table>\n",
       "</div>"
      ],
      "text/plain": [
       "   cls                                               data\n",
       "0    0  парусный гонка giraglia rolex cup пройти среди...\n",
       "1    1  шведский хоккеист матс сундина назначить совет...\n",
       "2    2  гран-при конкурс брэнд года/effie получить гор...\n",
       "3    3  цена американский нефть wti лондонский биржа i...\n",
       "4    3  сбербанк выставить продажа долг 21,4 тысяча до..."
      ]
     },
     "execution_count": 512,
     "metadata": {},
     "output_type": "execute_result"
    }
   ],
   "source": [
    "data = saveCSV(digitLabels, tmp)\n",
    "# data = pd.read_csv(\"data/data.csv\")\n",
    "data.head()"
   ]
  },
  {
   "cell_type": "code",
   "execution_count": 514,
   "metadata": {},
   "outputs": [],
   "source": [
    "xTrain, xTest, yTrain, yTest = train_test_split(data['data'], data['cls'], random_state = 0)\n",
    "count_vect = CountVectorizer()\n",
    "xTrain_counts = count_vect.fit_transform(xTrain)\n",
    "tfidf_transformer = TfidfTransformer()\n",
    "xTrain_tfidf = tfidf_transformer.fit_transform(xTrain_counts)"
   ]
  },
  {
   "cell_type": "code",
   "execution_count": 515,
   "metadata": {},
   "outputs": [
    {
     "data": {
      "text/plain": [
       "0.7584"
      ]
     },
     "execution_count": 515,
     "metadata": {},
     "output_type": "execute_result"
    }
   ],
   "source": [
    "mNB = MultinomialNB().fit(xTrain_tfidf, yTrain)\n",
    "accuracy_score(yTest, mNB.predict(count_vect.transform(xTest)))"
   ]
  },
  {
   "cell_type": "code",
   "execution_count": 516,
   "metadata": {},
   "outputs": [],
   "source": [
    "def mNBInfer(text):\n",
    "    text = count_vect.transform([text])\n",
    "    print(dictionaryDigitsLabels[mNB.predict(text)[0]])"
   ]
  },
  {
   "cell_type": "code",
   "execution_count": 517,
   "metadata": {},
   "outputs": [
    {
     "name": "stdout",
     "output_type": "stream",
     "text": [
      "sport\n"
     ]
    }
   ],
   "source": [
    "mNBInfer(\"Шведский хоккеист Матс Сундин назначен советником главного тренера сборной Швеции Пера Мортса.\\\n",
    "         Об этом сообщает официальный сайт Федерации хоккея Швеции.Сундин будет консультировать Мортса на протяжении сезона-2012/13 по спортивным вопросам,\\\n",
    "         а также будет курировать младшие сборные страны. Предполагается, что Сундин также войдет в состав тренерского штаба сборной Швеции на чемпионате мира 2013 года\")"
   ]
  },
  {
   "cell_type": "code",
   "execution_count": null,
   "metadata": {},
   "outputs": [],
   "source": []
  }
 ],
 "metadata": {
  "kernelspec": {
   "display_name": "Python 3",
   "language": "python",
   "name": "python3"
  },
  "language_info": {
   "codemirror_mode": {
    "name": "ipython",
    "version": 3
   },
   "file_extension": ".py",
   "mimetype": "text/x-python",
   "name": "python",
   "nbconvert_exporter": "python",
   "pygments_lexer": "ipython3",
   "version": "3.7.4"
  }
 },
 "nbformat": 4,
 "nbformat_minor": 4
}
